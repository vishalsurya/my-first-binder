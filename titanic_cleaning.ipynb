{
 "cells": [
  {
   "cell_type": "code",
   "execution_count": 2,
   "outputs": [],
   "source": [
    "import numpy as np"
   ],
   "metadata": {
    "collapsed": false,
    "ExecuteTime": {
     "end_time": "2023-06-04T20:36:24.343491Z",
     "start_time": "2023-06-04T20:36:23.966804Z"
    }
   }
  },
  {
   "cell_type": "code",
   "execution_count": 3,
   "metadata": {
    "collapsed": true,
    "ExecuteTime": {
     "end_time": "2023-06-04T20:36:25.008006Z",
     "start_time": "2023-06-04T20:36:24.348100Z"
    }
   },
   "outputs": [],
   "source": [
    "import pandas as pd\n"
   ]
  },
  {
   "cell_type": "markdown",
   "source": [],
   "metadata": {
    "collapsed": false
   }
  },
  {
   "cell_type": "code",
   "execution_count": 4,
   "outputs": [],
   "source": [
    "data =pd.read_excel('Week_04_HW4_Titanic_Data.xls')\n"
   ],
   "metadata": {
    "collapsed": false,
    "ExecuteTime": {
     "end_time": "2023-06-04T20:36:25.078899Z",
     "start_time": "2023-06-04T20:36:25.012106Z"
    }
   }
  },
  {
   "cell_type": "code",
   "execution_count": 5,
   "outputs": [
    {
     "data": {
      "text/plain": "  Survived Passenger Class                                             Name  \\\n0      Yes           First                    Allen, Miss. Elisabeth Walton   \n1      Yes           First                   Allison, Master. Hudson Trevor   \n2       No           First                     Allison, Miss. Helen Loraine   \n3       No           First             Allison, Mr. Hudson Joshua Creighton   \n4       No           First  Allison, Mrs. Hudson J C (Bessie Waldo Daniels)   \n\n      Sex      Age  No of Siblings or Spouses on Board  \\\n0  Female  29.0000                                   0   \n1    Male   0.9167                                   1   \n2  Female   2.0000                                   1   \n3    Male  30.0000                                   1   \n4  Female  25.0000                                   1   \n\n   No of Parents or Children on Board Ticket Number  Passenger Fare    Cabin  \\\n0                                   0         24160        211.3375       B5   \n1                                   2        113781        151.5500  C22 C26   \n2                                   2        113781        151.5500  C22 C26   \n3                                   2        113781        151.5500  C22 C26   \n4                                   2        113781        151.5500  C22 C26   \n\n  Port of Embarkation Life Boat  \n0         Southampton         2  \n1         Southampton        11  \n2         Southampton       NaN  \n3         Southampton       NaN  \n4         Southampton       NaN  ",
      "text/html": "<div>\n<style scoped>\n    .dataframe tbody tr th:only-of-type {\n        vertical-align: middle;\n    }\n\n    .dataframe tbody tr th {\n        vertical-align: top;\n    }\n\n    .dataframe thead th {\n        text-align: right;\n    }\n</style>\n<table border=\"1\" class=\"dataframe\">\n  <thead>\n    <tr style=\"text-align: right;\">\n      <th></th>\n      <th>Survived</th>\n      <th>Passenger Class</th>\n      <th>Name</th>\n      <th>Sex</th>\n      <th>Age</th>\n      <th>No of Siblings or Spouses on Board</th>\n      <th>No of Parents or Children on Board</th>\n      <th>Ticket Number</th>\n      <th>Passenger Fare</th>\n      <th>Cabin</th>\n      <th>Port of Embarkation</th>\n      <th>Life Boat</th>\n    </tr>\n  </thead>\n  <tbody>\n    <tr>\n      <th>0</th>\n      <td>Yes</td>\n      <td>First</td>\n      <td>Allen, Miss. Elisabeth Walton</td>\n      <td>Female</td>\n      <td>29.0000</td>\n      <td>0</td>\n      <td>0</td>\n      <td>24160</td>\n      <td>211.3375</td>\n      <td>B5</td>\n      <td>Southampton</td>\n      <td>2</td>\n    </tr>\n    <tr>\n      <th>1</th>\n      <td>Yes</td>\n      <td>First</td>\n      <td>Allison, Master. Hudson Trevor</td>\n      <td>Male</td>\n      <td>0.9167</td>\n      <td>1</td>\n      <td>2</td>\n      <td>113781</td>\n      <td>151.5500</td>\n      <td>C22 C26</td>\n      <td>Southampton</td>\n      <td>11</td>\n    </tr>\n    <tr>\n      <th>2</th>\n      <td>No</td>\n      <td>First</td>\n      <td>Allison, Miss. Helen Loraine</td>\n      <td>Female</td>\n      <td>2.0000</td>\n      <td>1</td>\n      <td>2</td>\n      <td>113781</td>\n      <td>151.5500</td>\n      <td>C22 C26</td>\n      <td>Southampton</td>\n      <td>NaN</td>\n    </tr>\n    <tr>\n      <th>3</th>\n      <td>No</td>\n      <td>First</td>\n      <td>Allison, Mr. Hudson Joshua Creighton</td>\n      <td>Male</td>\n      <td>30.0000</td>\n      <td>1</td>\n      <td>2</td>\n      <td>113781</td>\n      <td>151.5500</td>\n      <td>C22 C26</td>\n      <td>Southampton</td>\n      <td>NaN</td>\n    </tr>\n    <tr>\n      <th>4</th>\n      <td>No</td>\n      <td>First</td>\n      <td>Allison, Mrs. Hudson J C (Bessie Waldo Daniels)</td>\n      <td>Female</td>\n      <td>25.0000</td>\n      <td>1</td>\n      <td>2</td>\n      <td>113781</td>\n      <td>151.5500</td>\n      <td>C22 C26</td>\n      <td>Southampton</td>\n      <td>NaN</td>\n    </tr>\n  </tbody>\n</table>\n</div>"
     },
     "execution_count": 5,
     "metadata": {},
     "output_type": "execute_result"
    }
   ],
   "source": [
    "data.head()"
   ],
   "metadata": {
    "collapsed": false,
    "ExecuteTime": {
     "end_time": "2023-06-04T20:36:25.104358Z",
     "start_time": "2023-06-04T20:36:25.081404Z"
    }
   }
  },
  {
   "cell_type": "code",
   "execution_count": 6,
   "outputs": [
    {
     "data": {
      "text/plain": "Survived\nNo     809\nYes    500\nName: count, dtype: int64"
     },
     "execution_count": 6,
     "metadata": {},
     "output_type": "execute_result"
    }
   ],
   "source": [
    "data['Survived'].value_counts()"
   ],
   "metadata": {
    "collapsed": false,
    "ExecuteTime": {
     "end_time": "2023-06-04T20:36:25.122433Z",
     "start_time": "2023-06-04T20:36:25.112251Z"
    }
   }
  },
  {
   "cell_type": "code",
   "execution_count": 7,
   "outputs": [],
   "source": [
    "df2 = data.copy()"
   ],
   "metadata": {
    "collapsed": false,
    "ExecuteTime": {
     "end_time": "2023-06-04T20:36:25.146253Z",
     "start_time": "2023-06-04T20:36:25.123864Z"
    }
   }
  },
  {
   "cell_type": "code",
   "execution_count": 8,
   "outputs": [
    {
     "data": {
      "text/plain": "Survived                                 0\nPassenger Class                          0\nName                                     0\nSex                                      0\nAge                                    263\nNo of Siblings or Spouses on Board       0\nNo of Parents or Children on Board       0\nTicket Number                            0\nPassenger Fare                           1\nCabin                                 1014\nPort of Embarkation                      2\nLife Boat                              823\ndtype: int64"
     },
     "execution_count": 8,
     "metadata": {},
     "output_type": "execute_result"
    }
   ],
   "source": [
    "df2.isnull().sum()"
   ],
   "metadata": {
    "collapsed": false,
    "ExecuteTime": {
     "end_time": "2023-06-04T20:36:25.255325Z",
     "start_time": "2023-06-04T20:36:25.137178Z"
    }
   }
  },
  {
   "cell_type": "code",
   "execution_count": 9,
   "outputs": [
    {
     "data": {
      "text/plain": "2103"
     },
     "execution_count": 9,
     "metadata": {},
     "output_type": "execute_result"
    }
   ],
   "source": [
    "df2.isna().sum().sum()"
   ],
   "metadata": {
    "collapsed": false,
    "ExecuteTime": {
     "end_time": "2023-06-04T20:36:25.263699Z",
     "start_time": "2023-06-04T20:36:25.149328Z"
    }
   }
  },
  {
   "cell_type": "code",
   "execution_count": 10,
   "outputs": [
    {
     "data": {
      "text/plain": "2103"
     },
     "execution_count": 10,
     "metadata": {},
     "output_type": "execute_result"
    }
   ],
   "source": [
    "df2.isnull().sum().sum()"
   ],
   "metadata": {
    "collapsed": false,
    "ExecuteTime": {
     "end_time": "2023-06-04T20:36:25.302088Z",
     "start_time": "2023-06-04T20:36:25.159297Z"
    }
   }
  },
  {
   "cell_type": "code",
   "execution_count": 11,
   "outputs": [],
   "source": [
    "df2[\"Age\"].fillna(df2[\"Age\"].median(),inplace= True)\n"
   ],
   "metadata": {
    "collapsed": false,
    "ExecuteTime": {
     "end_time": "2023-06-04T20:36:25.359817Z",
     "start_time": "2023-06-04T20:36:25.169409Z"
    }
   }
  },
  {
   "cell_type": "code",
   "execution_count": 12,
   "outputs": [
    {
     "data": {
      "text/plain": "  Survived Passenger Class                                             Name  \\\n0      Yes           First                    Allen, Miss. Elisabeth Walton   \n1      Yes           First                   Allison, Master. Hudson Trevor   \n2       No           First                     Allison, Miss. Helen Loraine   \n3       No           First             Allison, Mr. Hudson Joshua Creighton   \n4       No           First  Allison, Mrs. Hudson J C (Bessie Waldo Daniels)   \n\n      Sex      Age  No of Siblings or Spouses on Board  \\\n0  Female  29.0000                                   0   \n1    Male   0.9167                                   1   \n2  Female   2.0000                                   1   \n3    Male  30.0000                                   1   \n4  Female  25.0000                                   1   \n\n   No of Parents or Children on Board Ticket Number  Passenger Fare    Cabin  \\\n0                                   0         24160        211.3375       B5   \n1                                   2        113781        151.5500  C22 C26   \n2                                   2        113781        151.5500  C22 C26   \n3                                   2        113781        151.5500  C22 C26   \n4                                   2        113781        151.5500  C22 C26   \n\n  Port of Embarkation Life Boat  \n0         Southampton         2  \n1         Southampton        11  \n2         Southampton       NaN  \n3         Southampton       NaN  \n4         Southampton       NaN  ",
      "text/html": "<div>\n<style scoped>\n    .dataframe tbody tr th:only-of-type {\n        vertical-align: middle;\n    }\n\n    .dataframe tbody tr th {\n        vertical-align: top;\n    }\n\n    .dataframe thead th {\n        text-align: right;\n    }\n</style>\n<table border=\"1\" class=\"dataframe\">\n  <thead>\n    <tr style=\"text-align: right;\">\n      <th></th>\n      <th>Survived</th>\n      <th>Passenger Class</th>\n      <th>Name</th>\n      <th>Sex</th>\n      <th>Age</th>\n      <th>No of Siblings or Spouses on Board</th>\n      <th>No of Parents or Children on Board</th>\n      <th>Ticket Number</th>\n      <th>Passenger Fare</th>\n      <th>Cabin</th>\n      <th>Port of Embarkation</th>\n      <th>Life Boat</th>\n    </tr>\n  </thead>\n  <tbody>\n    <tr>\n      <th>0</th>\n      <td>Yes</td>\n      <td>First</td>\n      <td>Allen, Miss. Elisabeth Walton</td>\n      <td>Female</td>\n      <td>29.0000</td>\n      <td>0</td>\n      <td>0</td>\n      <td>24160</td>\n      <td>211.3375</td>\n      <td>B5</td>\n      <td>Southampton</td>\n      <td>2</td>\n    </tr>\n    <tr>\n      <th>1</th>\n      <td>Yes</td>\n      <td>First</td>\n      <td>Allison, Master. Hudson Trevor</td>\n      <td>Male</td>\n      <td>0.9167</td>\n      <td>1</td>\n      <td>2</td>\n      <td>113781</td>\n      <td>151.5500</td>\n      <td>C22 C26</td>\n      <td>Southampton</td>\n      <td>11</td>\n    </tr>\n    <tr>\n      <th>2</th>\n      <td>No</td>\n      <td>First</td>\n      <td>Allison, Miss. Helen Loraine</td>\n      <td>Female</td>\n      <td>2.0000</td>\n      <td>1</td>\n      <td>2</td>\n      <td>113781</td>\n      <td>151.5500</td>\n      <td>C22 C26</td>\n      <td>Southampton</td>\n      <td>NaN</td>\n    </tr>\n    <tr>\n      <th>3</th>\n      <td>No</td>\n      <td>First</td>\n      <td>Allison, Mr. Hudson Joshua Creighton</td>\n      <td>Male</td>\n      <td>30.0000</td>\n      <td>1</td>\n      <td>2</td>\n      <td>113781</td>\n      <td>151.5500</td>\n      <td>C22 C26</td>\n      <td>Southampton</td>\n      <td>NaN</td>\n    </tr>\n    <tr>\n      <th>4</th>\n      <td>No</td>\n      <td>First</td>\n      <td>Allison, Mrs. Hudson J C (Bessie Waldo Daniels)</td>\n      <td>Female</td>\n      <td>25.0000</td>\n      <td>1</td>\n      <td>2</td>\n      <td>113781</td>\n      <td>151.5500</td>\n      <td>C22 C26</td>\n      <td>Southampton</td>\n      <td>NaN</td>\n    </tr>\n  </tbody>\n</table>\n</div>"
     },
     "execution_count": 12,
     "metadata": {},
     "output_type": "execute_result"
    }
   ],
   "source": [
    "df2.head()"
   ],
   "metadata": {
    "collapsed": false,
    "ExecuteTime": {
     "end_time": "2023-06-04T20:36:25.360461Z",
     "start_time": "2023-06-04T20:36:25.186417Z"
    }
   }
  },
  {
   "cell_type": "code",
   "execution_count": 13,
   "outputs": [
    {
     "name": "stdout",
     "output_type": "stream",
     "text": [
      "<class 'pandas.core.frame.DataFrame'>\n",
      "RangeIndex: 1309 entries, 0 to 1308\n",
      "Data columns (total 12 columns):\n",
      " #   Column                              Non-Null Count  Dtype  \n",
      "---  ------                              --------------  -----  \n",
      " 0   Survived                            1309 non-null   object \n",
      " 1   Passenger Class                     1309 non-null   object \n",
      " 2   Name                                1309 non-null   object \n",
      " 3   Sex                                 1309 non-null   object \n",
      " 4   Age                                 1046 non-null   float64\n",
      " 5   No of Siblings or Spouses on Board  1309 non-null   int64  \n",
      " 6   No of Parents or Children on Board  1309 non-null   int64  \n",
      " 7   Ticket Number                       1309 non-null   object \n",
      " 8   Passenger Fare                      1308 non-null   float64\n",
      " 9   Cabin                               295 non-null    object \n",
      " 10  Port of Embarkation                 1307 non-null   object \n",
      " 11  Life Boat                           486 non-null    object \n",
      "dtypes: float64(2), int64(2), object(8)\n",
      "memory usage: 122.8+ KB\n"
     ]
    }
   ],
   "source": [
    "    data.info()"
   ],
   "metadata": {
    "collapsed": false,
    "ExecuteTime": {
     "end_time": "2023-06-04T20:36:25.361214Z",
     "start_time": "2023-06-04T20:36:25.213253Z"
    }
   }
  },
  {
   "cell_type": "code",
   "execution_count": 14,
   "outputs": [],
   "source": [
    "df2['Port of Embarkation'].fillna(df2['Port of Embarkation'].mode()[0],inplace=True)"
   ],
   "metadata": {
    "collapsed": false,
    "ExecuteTime": {
     "end_time": "2023-06-04T20:37:57.452725Z",
     "start_time": "2023-06-04T20:37:57.441685Z"
    }
   }
  },
  {
   "cell_type": "code",
   "execution_count": 16,
   "outputs": [
    {
     "name": "stdout",
     "output_type": "stream",
     "text": [
      "<class 'pandas.core.frame.DataFrame'>\n",
      "RangeIndex: 1309 entries, 0 to 1308\n",
      "Data columns (total 12 columns):\n",
      " #   Column                              Non-Null Count  Dtype  \n",
      "---  ------                              --------------  -----  \n",
      " 0   Survived                            1309 non-null   object \n",
      " 1   Passenger Class                     1309 non-null   object \n",
      " 2   Name                                1309 non-null   object \n",
      " 3   Sex                                 1309 non-null   object \n",
      " 4   Age                                 1309 non-null   float64\n",
      " 5   No of Siblings or Spouses on Board  1309 non-null   int64  \n",
      " 6   No of Parents or Children on Board  1309 non-null   int64  \n",
      " 7   Ticket Number                       1309 non-null   object \n",
      " 8   Passenger Fare                      1308 non-null   float64\n",
      " 9   Cabin                               295 non-null    object \n",
      " 10  Port of Embarkation                 1309 non-null   object \n",
      " 11  Life Boat                           486 non-null    object \n",
      "dtypes: float64(2), int64(2), object(8)\n",
      "memory usage: 122.8+ KB\n"
     ]
    }
   ],
   "source": [
    "df2.info()"
   ],
   "metadata": {
    "collapsed": false,
    "ExecuteTime": {
     "end_time": "2023-06-04T20:48:07.104874Z",
     "start_time": "2023-06-04T20:48:07.044260Z"
    }
   }
  },
  {
   "cell_type": "code",
   "execution_count": 17,
   "outputs": [],
   "source": [
    "df2['Life Boat'].fillna(\"None\",inplace=True)\n"
   ],
   "metadata": {
    "collapsed": false,
    "ExecuteTime": {
     "end_time": "2023-06-04T21:04:51.114540Z",
     "start_time": "2023-06-04T21:04:51.089505Z"
    }
   }
  },
  {
   "cell_type": "code",
   "execution_count": 18,
   "outputs": [
    {
     "name": "stdout",
     "output_type": "stream",
     "text": [
      "<class 'pandas.core.frame.DataFrame'>\n",
      "RangeIndex: 1309 entries, 0 to 1308\n",
      "Data columns (total 12 columns):\n",
      " #   Column                              Non-Null Count  Dtype  \n",
      "---  ------                              --------------  -----  \n",
      " 0   Survived                            1309 non-null   object \n",
      " 1   Passenger Class                     1309 non-null   object \n",
      " 2   Name                                1309 non-null   object \n",
      " 3   Sex                                 1309 non-null   object \n",
      " 4   Age                                 1309 non-null   float64\n",
      " 5   No of Siblings or Spouses on Board  1309 non-null   int64  \n",
      " 6   No of Parents or Children on Board  1309 non-null   int64  \n",
      " 7   Ticket Number                       1309 non-null   object \n",
      " 8   Passenger Fare                      1308 non-null   float64\n",
      " 9   Cabin                               295 non-null    object \n",
      " 10  Port of Embarkation                 1309 non-null   object \n",
      " 11  Life Boat                           1309 non-null   object \n",
      "dtypes: float64(2), int64(2), object(8)\n",
      "memory usage: 122.8+ KB\n"
     ]
    }
   ],
   "source": [
    "df2.info()"
   ],
   "metadata": {
    "collapsed": false,
    "ExecuteTime": {
     "end_time": "2023-06-04T21:05:28.181063Z",
     "start_time": "2023-06-04T21:05:28.155312Z"
    }
   }
  },
  {
   "cell_type": "code",
   "execution_count": null,
   "outputs": [],
   "source": [],
   "metadata": {
    "collapsed": false
   }
  }
 ],
 "metadata": {
  "kernelspec": {
   "display_name": "Python 3",
   "language": "python",
   "name": "python3"
  },
  "language_info": {
   "codemirror_mode": {
    "name": "ipython",
    "version": 2
   },
   "file_extension": ".py",
   "mimetype": "text/x-python",
   "name": "python",
   "nbconvert_exporter": "python",
   "pygments_lexer": "ipython2",
   "version": "2.7.6"
  }
 },
 "nbformat": 4,
 "nbformat_minor": 0
}
